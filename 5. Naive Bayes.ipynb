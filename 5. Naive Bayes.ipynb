{
 "cells": [
  {
   "cell_type": "markdown",
   "metadata": {},
   "source": [
    "# Naive bias Classifier"
   ]
  },
  {
   "cell_type": "code",
   "execution_count": 18,
   "metadata": {},
   "outputs": [],
   "source": [
    "from sklearn.datasets import load_breast_cancer\n",
    "from sklearn.naive_bayes import GaussianNB"
   ]
  },
  {
   "cell_type": "markdown",
   "metadata": {},
   "source": [
    "# Load dataset"
   ]
  },
  {
   "cell_type": "code",
   "execution_count": 24,
   "metadata": {},
   "outputs": [
    {
     "name": "stdout",
     "output_type": "stream",
     "text": [
      "Dataset size: 569\n",
      "No of features: 30\n"
     ]
    }
   ],
   "source": [
    "data = load_breast_cancer()\n",
    "print(\"Dataset size:\",len(data.data))\n",
    "print(\"No of features:\",len(data.data[0]))"
   ]
  },
  {
   "cell_type": "markdown",
   "metadata": {},
   "source": [
    "# Split dataset in three parts training(60%), testing(20%) and validation(20%)"
   ]
  },
  {
   "cell_type": "code",
   "execution_count": 25,
   "metadata": {},
   "outputs": [
    {
     "name": "stdout",
     "output_type": "stream",
     "text": [
      "Training data: 341\n",
      "Testing data: 114\n",
      "Validation data: 114\n"
     ]
    }
   ],
   "source": [
    "l = len(data.data)  #length of dataset\n",
    "train_X,train_y = data.data[0:int(l*0.6)],data.target[0:int(l*0.6)]    #train data\n",
    "test_X,test_y = data.data[int(l*0.6):int(l*0.8)],data.target[int(l*0.6):int(l*0.8)]    #test data\n",
    "valid_X,valid_y = data.data[int(l*0.8):l],data.target[int(l*0.8):l]     #validation data\n",
    "print(\"Training data:\",len(train_X))\n",
    "print(\"Testing data:\",len(test_X))\n",
    "print(\"Validation data:\",len(valid_X))"
   ]
  },
  {
   "cell_type": "markdown",
   "metadata": {},
   "source": [
    "# Load NavieBiasmodel"
   ]
  },
  {
   "cell_type": "code",
   "execution_count": 26,
   "metadata": {},
   "outputs": [],
   "source": [
    "model = GaussianNB()"
   ]
  },
  {
   "cell_type": "markdown",
   "metadata": {},
   "source": [
    "# Training model"
   ]
  },
  {
   "cell_type": "code",
   "execution_count": 27,
   "metadata": {},
   "outputs": [
    {
     "name": "stdout",
     "output_type": "stream",
     "text": [
      "Training accuracy:  0.9442815249266863\n",
      "Validation accuracy:  0.9473684210526315\n"
     ]
    }
   ],
   "source": [
    "model.fit(train_X,train_y)\n",
    "print(\"Training accuracy: \",model.score(train_X,train_y))\n",
    "print(\"Validation accuracy: \",model.score(valid_X,valid_y))"
   ]
  },
  {
   "cell_type": "markdown",
   "metadata": {},
   "source": [
    "# Testing model"
   ]
  },
  {
   "cell_type": "code",
   "execution_count": 28,
   "metadata": {},
   "outputs": [
    {
     "name": "stdout",
     "output_type": "stream",
     "text": [
      "Training accuracy:  0.9649122807017544\n"
     ]
    }
   ],
   "source": [
    "print(\"Training accuracy: \",model.score(test_X,test_y)) "
   ]
  },
  {
   "cell_type": "code",
   "execution_count": null,
   "metadata": {},
   "outputs": [],
   "source": []
  }
 ],
 "metadata": {
  "kernelspec": {
   "display_name": "Python 3",
   "language": "python",
   "name": "python3"
  },
  "language_info": {
   "codemirror_mode": {
    "name": "ipython",
    "version": 3
   },
   "file_extension": ".py",
   "mimetype": "text/x-python",
   "name": "python",
   "nbconvert_exporter": "python",
   "pygments_lexer": "ipython3",
   "version": "3.7.4"
  }
 },
 "nbformat": 4,
 "nbformat_minor": 2
}
