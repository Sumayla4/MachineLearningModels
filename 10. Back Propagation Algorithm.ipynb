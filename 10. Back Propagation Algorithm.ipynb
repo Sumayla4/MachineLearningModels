{
 "cells": [
  {
   "cell_type": "markdown",
   "metadata": {},
   "source": [
    "## Back Propagation Algorith\n",
    "   This is the most basic form of neural network used for understanding the backpropagation algorithm using the XOR gate"
   ]
  },
  {
   "cell_type": "code",
   "execution_count": 1,
   "metadata": {},
   "outputs": [
    {
     "name": "stdout",
     "output_type": "stream",
     "text": [
      "[[0.0079747 ]\n",
      " [0.99315637]\n",
      " [0.99315635]\n",
      " [0.0071074 ]]\n"
     ]
    }
   ],
   "source": [
    "#using numpy\n",
    "import numpy as np\n",
    "\n",
    "def sigmoid(num):\n",
    "   return 1 / (1 + np.exp(-2 * num))\n",
    "\n",
    "\n",
    "def sigmoid_gradient(num):\n",
    "\treturn num * (1 - num)\n",
    "\n",
    "\n",
    "def feedforwardpropagation(input_layer, output_layer, hidden_weights, output_weights, bias):\n",
    "\tz2 = np.dot(input_layer, hidden_weights)\n",
    "\ta2 = sigmoid(z2)\n",
    "\ta2= a2.T\n",
    "\ta2 = np.vstack((a2, bias)).T\n",
    "\tz3 = np.dot(a2, output_weights)\n",
    "\ta3 = sigmoid(z3)\n",
    "\treturn a2, a3, hidden_weights, output_weights\n",
    "\n",
    "\n",
    "def backpropogation(input_layer, output_layer, hidden_weights, output_weights, bias, n):\n",
    "\tfor _ in range(n):\n",
    "\t\ta2, a3, hidden_weights, output_weights = feedforwardpropagation( input_layer, output_layer, hidden_weights, output_weights, bias)\n",
    "\t\tdel_a3 = output_layer - a3\n",
    "\t\tdel_a2 = np.dot(del_a3, output_weights[0:2, :].T) * \\\n",
    "\t\t    sigmoid(np.dot(input_layer, hidden_weights))\n",
    "\n",
    "\n",
    "\t\tdelta_a3 = del_a3 * sigmoid_gradient(a3)\n",
    "\t\tdelta_a2 = del_a2 * sigmoid_gradient(a2[:, 0:2])\n",
    "\n",
    "\t\toutput_weights += np.dot(a2.T, delta_a3)\n",
    "\t\thidden_weights += np.dot(input_layer.T, delta_a2)\n",
    "\n",
    "\treturn a3\n",
    "\n",
    "\n",
    "\n",
    "input_layer = np.array([[0, 0, 1], [0, 1, 1], [1, 0, 1], [1, 1, 1]])\n",
    "output_layer =np.array([[0, 1, 1, 0]]).T\n",
    "\n",
    "np.random.seed(4)\n",
    "hidden_weights = np.random.random((3,2))\n",
    "output_weights = np.random.random((3, 1))\n",
    "\n",
    "n = 10000\n",
    "\n",
    "bias = np.ones((1, 4))\n",
    "\n",
    "print(backpropogation(input_layer, output_layer, hidden_weights, output_weights, bias, n))"
   ]
  },
  {
   "cell_type": "code",
   "execution_count": null,
   "metadata": {},
   "outputs": [],
   "source": []
  }
 ],
 "metadata": {
  "kernelspec": {
   "display_name": "Python 3",
   "language": "python",
   "name": "python3"
  },
  "language_info": {
   "codemirror_mode": {
    "name": "ipython",
    "version": 3
   },
   "file_extension": ".py",
   "mimetype": "text/x-python",
   "name": "python",
   "nbconvert_exporter": "python",
   "pygments_lexer": "ipython3",
   "version": "3.8.2"
  }
 },
 "nbformat": 4,
 "nbformat_minor": 4
}
